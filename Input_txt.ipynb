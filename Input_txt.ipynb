{
 "cells": [
  {
   "cell_type": "code",
   "execution_count": 1,
   "metadata": {},
   "outputs": [
    {
     "name": "stderr",
     "output_type": "stream",
     "text": [
      "c:\\Users\\vedia\\RAG\\RAG_for_cl\\venv\\Lib\\site-packages\\pinecone\\data\\index.py:1: TqdmWarning: IProgress not found. Please update jupyter and ipywidgets. See https://ipywidgets.readthedocs.io/en/stable/user_install.html\n",
      "  from tqdm.autonotebook import tqdm\n"
     ]
    },
    {
     "name": "stdout",
     "output_type": "stream",
     "text": [
      "key = pcsk...\n"
     ]
    }
   ],
   "source": [
    "from Rag import RAG\n",
    "database = RAG()"
   ]
  },
  {
   "cell_type": "code",
   "execution_count": null,
   "metadata": {},
   "outputs": [],
   "source": [
    "#여기서 input 따로 main.py같은데서 만드려면 위의 RAG클래스 객체 만들고 add 호출하면 됩니다.\n",
    "while ((text:=input()) != '-1'):\n",
    "    print(text)\n",
    "    database.add(text)"
   ]
  },
  {
   "cell_type": "code",
   "execution_count": null,
   "metadata": {},
   "outputs": [],
   "source": [
    "#3개의 검색 결과 보여줍니다. Rag.py의 개수는 search에서 top_k를 수정하면 됩니다.\n",
    "results = database.search('LG CNS에 입사하기 위한 방법')"
   ]
  },
  {
   "cell_type": "code",
   "execution_count": 6,
   "metadata": {},
   "outputs": [
    {
     "name": "stdout",
     "output_type": "stream",
     "text": [
      "Score: 0.81039995, Text: 3. LG CNS에 입사한다면, 어떤 조직이나 분야에서 근무하고 싶나요? 글자수 9 / 1자 ~ 20자 IT 서비스 SI\n",
      "Score: 0.630038, Text: 1. LG CNS에 지원한 동기와 입사 이후 꿈꾸는 것은 무엇인가요? 글자수 916 / 500자 ~ 1000자 LG CNS와 함께 성장하는 인재 소프트웨어 전공을 택하고 학습을 하면서 이전에는 몰랐던 공부의 즐거움을 느꼈습니다. 직접 프로그램을 개발하는 경험은 저에게 신기하고도 재미있었고 어려운 문제를 해결하고 생각했던 것을 구현했을 때 매우 뿌듯하고 기뻤습니다. 이런 감정은 제가 안드로이드, MFC, AR 기술, 게임, 웹 백엔드 등 다양한 언어나 기술 분야에 도전하게 해주었습니다. 또한, 이 분야의 전문가가 되어서 많은 사람이 유용하게 사용하는 소프트웨어를 만들고 싶은 꿈을 꾸게 해주었습니다. 그러던 중 카카오뱅크나 티머니 등 실생활과 밀접한 많은 서비스를 개발한 LG CNS를 알게 되었고 이는 개발자로서의 열정을 이끌어 줄 회사라고 생각했습니다. 또한, 구성원 대부분이 엔지니어라는 점은 함께하면서 더욱 성장할 수 있을 것이라는 느낌을 받았습니다. 이러한 회사에서 혁신적인 기술을 개발하는 중요한 구성원이 되고 싶어 지원하게 되었습니다. LG CNS에 입사하게 된다면 회사의 경쟁력이 곧 나의 경쟁력이라 생각하고 회사가 이미 확보한 입지를 더욱 단단히 굳히며 전문 분야에서 타의 추종을 불허하는 기업을 만들도록 노력하겠습니다. 이를 위해 입사 후에도 안주하지 않고 필요한 기술 스택을 계속해서 공부하며 개발자로서의 실력을 쌓고 개발된 소프트웨어가 비효율적으로 동작하는 부분은 없는지, 사용자가 사용하기 불편한 부분은 없는지, 자발적으로 분석하고 테스트하며 더욱 창의적이고 좋은 소프트웨어로 만들겠습니다. 회사를 단순히 돈을 벌기 위한 곳이라고 여기지 않고, 내가 성장하며 함께 꿈을 꿀 수 있는 곳이라고 생각하며 열정과 책임 의식을 갖고 업무에 임하겠습니다. 이곳에서 혁신적이고 경쟁력 있는 기술을 갖추어 LG CNS를 IT 기술을 선도하는 기업으로 만드는 개발자가 되어 수많은 사용자에게 최고의 서비스, 솔루션을 제공하고 싶습니다.\n",
      "Score: 0.320370376, Text: 2.지원분야와 관련된 구체적인 지식이나 경험은 무엇이 있나요? 글자수 997 / 500자 ~ 1000자 컴퓨터 비전과 AR 접목 미래에는 AR 기술 상용화와 HMD가 경량화될 것으로 생각해 AR 환경을 스마트폰 터치 등이 아닌 손으로 직접 제어할 수 있는 기술을 개발했습니다. HSV 색상 모델을 사용해 실시간 손 추적 알고리즘을 구현했고 단순한 추적 외에 가상의 3D 손 모델을 생성할 수 있게 필요한 손가락 끝과 손바닥의 좌표를 얻을 수 있도록 알고리즘을 개조했습니다. 정확성을 높이기 위한 딥러닝 서버와 통신하도록 카메라 영상을 서버로 전송하는 소켓 통신을 구현했습니다. 또 서버에서 출력값 수신 시 서버의 연산을 기다리는 동안 프레임이 블록 되는 것을 막기 위해 통신에 대해 스레드를 생성해 추적 연산과 통신을 병렬적으로 처리했습니다. 이 프로젝트를 통해 4차 산업 혁명의 핵심 분야인 컴퓨터 비전과 AR 기술을 다루는 경험을 할 수 있었습니다. 또한, 전공 수업에서 배운 네트워크와 멀티 스레드 이론을 실전에 적용하며 심도 있는 학습을 했습니다. 멀티 게임 개발 교내 자율학기제 공모전을 통해 신개념 개인전 멀티 축구 게임을 개발했습니다. 서버와 클라이언트 모두 관여하며 새로운 분야에 도전했습니다. 클라이언트와 서버 간에 통신할 때 전달하는 데이터에 관한 규약을 만들었고 서버 개발 시엔 클라이언트 개발 팀원과, 클라이언트 개발 시엔 서버 개발 팀원과 소통하며 이를 계속해서 보완했습니다. 가장 큰 문제였던 실시간 동기화에 대해 깊은 고민을 하며 기존에 알려진 동기화 이론과는 약간 다른 개념을 도입하여 우리만의 동기화 방식을 만들었고 원활한 동기화를 구현할 수 있었습니다. 게임을 성공적으로 완성하며 공모전에서 최우수상을 수상했습니다. 직접 구현한 서버를 AWS에 구동시키며 클라우드에 대한 기본적인 이해를 할 수 있었고, 서버와 클라이언트 개발자 간에 어떻게 소통하는지 배웠습니다. 예상치 못했던 버그나 동기화 문제를 해결하며 트러블 슈팅 능력도 갖췄습니다. 그리고 코드를 모듈화하려는 노력을 통해 수업에서 느끼지 못한 객체지향 프로그래밍의 장점을 배울 수 있었습니다.\n"
     ]
    }
   ],
   "source": [
    "for match in results['matches']:\n",
    "    score = match['score']  # 유사도 점수\n",
    "    text = match['metadata']['text']  # 원본 텍스트\n",
    "    print(f\"Score: {score}, Text: {text}\")"
   ]
  }
 ],
 "metadata": {
  "kernelspec": {
   "display_name": "venv",
   "language": "python",
   "name": "python3"
  },
  "language_info": {
   "codemirror_mode": {
    "name": "ipython",
    "version": 3
   },
   "file_extension": ".py",
   "mimetype": "text/x-python",
   "name": "python",
   "nbconvert_exporter": "python",
   "pygments_lexer": "ipython3",
   "version": "3.12.4"
  }
 },
 "nbformat": 4,
 "nbformat_minor": 2
}
